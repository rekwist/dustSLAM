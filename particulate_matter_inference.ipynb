{
 "cells": [
  {
   "cell_type": "code",
   "execution_count": 1,
   "metadata": {
    "collapsed": true
   },
   "outputs": [],
   "source": [
    "import pandas as pd\n",
    "import numpy as np\n",
    "import matplotlib.pyplot as plt\n",
    "from datetime import datetime\n",
    "import struct\n",
    "\n",
    "# key parameters\n",
    "\n",
    "x_off = 0\n",
    "y_off = 4\n",
    "z_off = 7\n",
    "time_off = 16\n",
    "intensity_off = 24\n",
    "ring_off = 28\n",
    "returnNum_off = 29\n",
    "point_step = 32\n",
    "\n",
    "def extract_point_data(data):\n",
    "    point_data = {}\n",
    "\n",
    "    point_data['x'] = struct.unpack('f', data[x_off:x_off + 4])[0]\n",
    "    point_data['y'] = struct.unpack('f', data[y_off:y_off + 4])[0]\n",
    "    point_data['z'] = struct.unpack('f', data[z_off:z_off + 4])[0]\n",
    "    point_data['timestep'] = struct.unpack('d', data[time_off:time_off + 8])[0]\n",
    "    point_data['intensity'] = struct.unpack('f', data[intensity_off:intensity_off+4])[0]\n",
    "    point_data['ring'] = struct.unpack('B', data[ring_off:ring_off+1])[0]\n",
    "    point_data['returnNum'] = struct.unpack('B', data[returnNum_off:returnNum_off+1])[0]\n",
    "\n",
    "    return point_data\n",
    "\n",
    "def extract_all_points(data, numPoints):\n",
    "    all_points = []\n",
    "    for i in range(numPoints):\n",
    "        start_index = i * point_step\n",
    "        point_data = extract_point_data(data[start_index:start_index+point_step])\n",
    "        all_points.append(point_data)\n",
    "    return all_points\n",
    "\n",
    "\n",
    "def extract_velodyne_data_to_csv(velodyne_data):\n",
    "    df_out = pd.DataFrame(columns=['Time', '1m', '1m_intensity', '1m_return', '10cm', '10cm_intensity', '10cm_return', '1cm', '1cm_intensity', '1cm_return', '1mm', '1mm_intensity', '1mm_return', \"100um\", '100um_intensity', '100um_return'])\n",
    "    for i in range(len(velodyne_data)):\n",
    "        relevant_data = []\n",
    "        relevant_data.append(datetime.fromtimestamp(velodyne_data.loc[i, 'Time']))\n",
    "        cloud_data = velodyne_data.loc[i, \"data\"]\n",
    "        cloud_bytes = cloud_data.encode('latin1')\n",
    "        num_points = len(cloud_bytes) // point_step\n",
    "        all_points = extract_all_points(cloud_bytes, num_points)\n",
    "\n",
    "        df_all_points = pd.DataFrame(all_points)\n",
    "\n",
    "        df_all_points['distance'] = df_all_points.apply(lambda row: np.sqrt((row.x ** 2) + (row.y ** 2) + (row.z ** 2)),\n",
    "                                                        axis=1)\n",
    "\n",
    "        for j in range(5):\n",
    "            subset = df_all_points.loc[df_all_points['distance'] <= (10 ** (-1 * j))]\n",
    "            loading = len(subset)\n",
    "            relevant_data.append(loading)\n",
    "            intensity = subset['intensity'].mean()\n",
    "            relevant_data.append(intensity)\n",
    "            returnNum = subset['returnNum'].mean()\n",
    "            relevant_data.append(returnNum)\n",
    "            #relevant_data.append([loading, intensity, returnNum])\n",
    "        df_out.loc[len(df_out)] = relevant_data\n",
    "    return df_out\n"
   ]
  },
  {
   "cell_type": "code",
   "execution_count": 2,
   "outputs": [
    {
     "name": "stdout",
     "output_type": "stream",
     "text": [
      "[INFO]  Successfully created the data folder DeclineFeb2025_01\\DeclineFeb2025_2025-02-05-15-28-56_0.\n",
      "[INFO]  Successfully created the data folder DeclineFeb2025_01\\DeclineFeb2025_2025-02-05-15-33-40_1.\n",
      "[INFO]  Successfully created the data folder DeclineFeb2025_01\\DeclineFeb2025_2025-02-05-15-37-45_2.\n",
      "[INFO]  Successfully created the data folder DeclineFeb2025_01\\DeclineFeb2025_2025-02-05-15-41-49_3.\n"
     ]
    }
   ],
   "source": [
    "import glob\n",
    "from bagpy import bagreader\n",
    "\n",
    "hovermap_files = glob.glob('DeclineFeb2025_01/*.bag')\n",
    "count = 1\n",
    "for filename in hovermap_files:\n",
    "        b = bagreader(filename)\n",
    "        data = b.message_by_topic('/velodyne_points')\n",
    "        df_data = pd.read_csv(data)\n",
    "        df_out = extract_velodyne_data_to_csv(df_data)\n",
    "        df_out.to_csv(\"DeclineFeb2025_01/hovermap{}.csv\".format(count))\n",
    "        count += 1\n",
    "if not hovermap_files:\n",
    "    print('empty')"
   ],
   "metadata": {
    "collapsed": false
   }
  },
  {
   "cell_type": "code",
   "execution_count": 3,
   "outputs": [],
   "source": [
    "import glob\n",
    "hovermap_csvs = glob.glob('DeclineFeb2025_01/hovermap*.csv')\n",
    "\n",
    "dfs = []\n",
    "for filename in hovermap_csvs:\n",
    "    data = pd.read_csv(filename)\n",
    "    data = data.drop(data.columns[0], axis=1)\n",
    "    dfs.append(data)\n",
    "hovermap_data = pd.concat(dfs)"
   ],
   "metadata": {
    "collapsed": false
   }
  },
  {
   "cell_type": "code",
   "execution_count": 4,
   "outputs": [],
   "source": [
    "hovermap_data.sort_values(by='Time', inplace=True)\n",
    "\n",
    "hovermap_data['1m_diff'] = hovermap_data['1m'].diff()\n",
    "hovermap_data['10cm_diff'] = hovermap_data['10cm'].diff()\n",
    "hovermap_data['1cm_diff'] = hovermap_data['1cm'].diff()\n",
    "hovermap_data['1mm_diff'] = hovermap_data['1mm'].diff()\n",
    "hovermap_data['100um_diff'] = hovermap_data['100um'].diff()\n",
    "hovermap_data['Timestamp'] = pd.to_datetime(hovermap_data['Time'])\n"
   ],
   "metadata": {
    "collapsed": false
   }
  },
  {
   "cell_type": "code",
   "execution_count": 5,
   "outputs": [],
   "source": [
    "hovermap_data.to_csv('DeclineFeb2025_01/combindata.csv')"
   ],
   "metadata": {
    "collapsed": false
   }
  },
  {
   "cell_type": "code",
   "execution_count": null,
   "outputs": [],
   "source": [],
   "metadata": {
    "collapsed": false
   }
  }
 ],
 "metadata": {
  "kernelspec": {
   "display_name": "Python 3",
   "language": "python",
   "name": "python3"
  },
  "language_info": {
   "codemirror_mode": {
    "name": "ipython",
    "version": 2
   },
   "file_extension": ".py",
   "mimetype": "text/x-python",
   "name": "python",
   "nbconvert_exporter": "python",
   "pygments_lexer": "ipython2",
   "version": "2.7.6"
  }
 },
 "nbformat": 4,
 "nbformat_minor": 0
}
